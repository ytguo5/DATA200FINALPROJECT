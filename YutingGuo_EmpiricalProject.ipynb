{
 "cells": [
  {
   "cell_type": "code",
   "execution_count": 13,
   "id": "c6d1d63e",
   "metadata": {},
   "outputs": [],
   "source": [
    "import pandas as pd\n",
    "import numpy as np\n",
    "import seaborn as sns\n",
    "from tqdm import tqdm\n",
    "import matplotlib.pyplot as plt\n",
    "from numpy.core.fromnumeric import sort\n",
    "from sklearn.model_selection import train_test_split\n",
    "from sklearn.metrics import confusion_matrix, accuracy_score\n",
    "from sklearn import tree"
   ]
  },
  {
   "cell_type": "markdown",
   "id": "73a0ad5a",
   "metadata": {},
   "source": [
    "# Data Cleaning"
   ]
  },
  {
   "cell_type": "code",
   "execution_count": 4,
   "id": "817e47fd",
   "metadata": {},
   "outputs": [
    {
     "name": "stderr",
     "output_type": "stream",
     "text": [
      "100%|██████████| 4843/4843 [00:11<00:00, 431.32it/s]"
     ]
    },
    {
     "name": "stdout",
     "output_type": "stream",
     "text": [
      "158 483 583 0 0\n",
      "tot numbers of people: 4132\n"
     ]
    },
    {
     "name": "stderr",
     "output_type": "stream",
     "text": [
      "\n"
     ]
    }
   ],
   "source": [
    "# read the raw data as dataframe\n",
    "DLQ_I_df = pd.read_sas('DLQ_I.XPT')\n",
    "DLQ_I_df = DLQ_I_df.fillna(0).astype(int) # convert to int type and fill the nan with 0\n",
    "DUQ_I_df = pd.read_sas('DUQ_I.XPT')\n",
    "DUQ_I_df = DUQ_I_df.fillna(0).astype(int)\n",
    "HSQ_I_df = pd.read_sas('HSQ_I.XPT')\n",
    "HSQ_I_df = HSQ_I_df.fillna(0).astype(int)\n",
    "INQ_I_df = pd.read_sas('INQ_I.XPT')\n",
    "INQ_I_df = INQ_I_df.fillna(0).astype(int)\n",
    "\n",
    "# remove uninterested features or retain interested features\n",
    "DUQ_I_df = pd.DataFrame(DUQ_I_df,columns=['SEQN','DUQ200','DUQ220U','DUQ240','DUQ270U','DUQ290','DUQ310U','DUQ330','DUQ350U','DUQ370','DUQ400U','DUQ430'])\n",
    "HSQ_I_df=HSQ_I_df.drop(labels=['HSQ571','HSQ580','HSAQUEX',],axis=1)\n",
    "INQ_I_df=INQ_I_df.drop(labels=['IND310','INDFMMPI'],axis=1)\n",
    "DLQ_I_df =DLQ_I_df.drop(labels=['DLQ100','DLQ110','DLQ130','DLQ140','DLQ170'],axis=1)\n",
    "\n",
    "# find common sequence\n",
    "DLQ_I_n = set(DLQ_I_df['SEQN'].values.tolist())\n",
    "DUQ_I_n = set(DUQ_I_df['SEQN'].values.tolist())\n",
    "HSQ_I_n = set(HSQ_I_df['SEQN'].values.tolist())\n",
    "INQ_I_n = set(INQ_I_df['SEQN'].values.tolist())\n",
    "iset = DLQ_I_n.intersection(DUQ_I_n)\n",
    "iset = iset.intersection(HSQ_I_n)\n",
    "iset = iset.intersection(INQ_I_n)\n",
    "common_seqns = list(iset)\n",
    "common_seqns.sort()\n",
    "INQ_I_cols = list(INQ_I_df.columns)\n",
    "INQ_I_cols.remove('SEQN')\n",
    "HSQ_I_cols = list(HSQ_I_df.columns)\n",
    "HSQ_I_cols.remove('SEQN')\n",
    "DUQ_I_cols = list(DUQ_I_df.columns)\n",
    "DUQ_I_cols.remove('SEQN')\n",
    "DLQ_I_cols = list(DLQ_I_df.columns)\n",
    "DLQ_I_cols.remove('SEQN')\n",
    "np.save(\"INQ_I_cols.npy\",INQ_I_cols)\n",
    "np.save(\"HSQ_I_cols.npy\",HSQ_I_cols)\n",
    "np.save(\"DUQ_I_cols.npy\",DUQ_I_cols)\n",
    "np.save(\"DLQ_I_cols.npy\",DLQ_I_cols)\n",
    "\n",
    "\n",
    "tot_cols = np.hstack(('SEQN',INQ_I_cols,HSQ_I_cols,DUQ_I_cols,DLQ_I_cols))\n",
    "tot_df = pd.DataFrame(columns=tot_cols)\n",
    "cnt1,cnt2,cnt3,cnt4,cnt5=0,0,0,0,0\n",
    "for seqn in tqdm(common_seqns):\n",
    "    flag = False\n",
    "    tmp_INQ_I_values = INQ_I_df[INQ_I_df.SEQN==seqn][INQ_I_cols].values\n",
    "    if sum(tmp_INQ_I_values[0])==0:\n",
    "        flag = True\n",
    "        cnt1+=1\n",
    "    tmp_HSQ_I_values = HSQ_I_df[HSQ_I_df.SEQN==seqn][HSQ_I_cols].values\n",
    "    if sum(tmp_HSQ_I_values[0])==0:\n",
    "        flag = True\n",
    "        cnt2+=1\n",
    "    tmp_DUQ_I_values = DUQ_I_df[DUQ_I_df.SEQN==seqn][DUQ_I_cols].values\n",
    "    if sum(tmp_DUQ_I_values[0])==0:\n",
    "        flag = True\n",
    "        cnt3+=1\n",
    "    tmp_DLQ_I_values = DLQ_I_df[DLQ_I_df.SEQN==seqn][DLQ_I_cols].values\n",
    "    if sum(tmp_DLQ_I_values[0])==0:\n",
    "        flag = True\n",
    "        cnt4+=1\n",
    "    tot_values = np.hstack(([[seqn]],tmp_INQ_I_values,tmp_HSQ_I_values,tmp_DUQ_I_values,tmp_DLQ_I_values))\n",
    "    if sum(tot_values[0])==0:\n",
    "        flag = True\n",
    "        cnt5+=1\n",
    "    if not flag: # all data not missing\n",
    "        tmp_df = pd.DataFrame(tot_values,columns=tot_cols)\n",
    "        tot_df = tot_df.append(tmp_df)\n",
    "print(cnt1,cnt2,cnt3,cnt4,cnt5)\n",
    "print(f\"tot numbers of people: {len(tot_df)}\")\n",
    "tot_df.to_csv('tot_df.csv',index=None)\n"
   ]
  },
  {
   "cell_type": "code",
   "execution_count": 5,
   "id": "237ee3ad",
   "metadata": {},
   "outputs": [
    {
     "name": "stderr",
     "output_type": "stream",
     "text": [
      "100%|██████████| 4132/4132 [00:03<00:00, 1331.54it/s]"
     ]
    },
    {
     "name": "stdout",
     "output_type": "stream",
     "text": [
      "count no drug 2286\n"
     ]
    },
    {
     "name": "stderr",
     "output_type": "stream",
     "text": [
      "\n"
     ]
    }
   ],
   "source": [
    "DUQ_I_cols = np.load(\"DUQ_I_cols.npy\")\n",
    "tot_df = pd.read_csv('tot_df.csv')\n",
    "\n",
    "DUQ_I_df = tot_df[['SEQN','DUQ200','DUQ220U','DUQ240','DUQ270U','DUQ290','DUQ310U','DUQ330','DUQ350U','DUQ370','DUQ400U']]\n",
    "DUQ_I_new_df = pd.DataFrame(columns=['SEQN','no drug','marijuana','cocaine','heroin','methamphetamine','needle'])\n",
    "cnt_missing=0\n",
    "cnt_no_drug=0\n",
    "for i in tqdm(range(len(DUQ_I_df))):\n",
    "  tmp_values = DUQ_I_df.iloc[i].values[1:]\n",
    "  if sum(tmp_values)==0: # all data is missing\n",
    "    cnt_missing+=1\n",
    "  else:\n",
    "    if 1 not in tmp_values:\n",
    "      cnt_no_drug+=1\n",
    "      tmp_df = pd.DataFrame([[DUQ_I_df.iloc[i]['SEQN'],1,0,0,0,0,0]],columns=['SEQN','no drug','marijuana','cocaine','heroin','methamphetamine','needle'])\n",
    "      DUQ_I_new_df = DUQ_I_new_df.append(tmp_df)\n",
    "    else:\n",
    "      tmp_list = []\n",
    "      for i in range(0,len(tmp_values),2):\n",
    "        if tmp_values[i]==2 or tmp_values[i]==0 :\n",
    "          tmp_list.append(0)\n",
    "        else:\n",
    "          if tmp_values[i+1]==0:\n",
    "            tmp_list.append(1)\n",
    "          else:\n",
    "            tmp_list.append(5-tmp_values[i+1]) # reverse the extent of drug use, the higher value, more frequently frug use\n",
    "      tmp_df = pd.DataFrame([np.hstack((DUQ_I_df.iloc[i]['SEQN'],0,tmp_list))],columns=['SEQN','no drug','marijuana','cocaine','heroin','methamphetamine','needle'])\n",
    "      DUQ_I_new_df = DUQ_I_new_df.append(tmp_df)\n",
    "print(f\"count no drug\",cnt_no_drug)\n",
    "DUQ_I_new_df.to_csv('DUQ_I_new_df.csv',index=None)\n",
    "\n"
   ]
  },
  {
   "cell_type": "code",
   "execution_count": 6,
   "id": "25ae47ed",
   "metadata": {},
   "outputs": [
    {
     "name": "stderr",
     "output_type": "stream",
     "text": [
      "100%|██████████| 4132/4132 [00:02<00:00, 1378.42it/s]"
     ]
    },
    {
     "name": "stdout",
     "output_type": "stream",
     "text": [
      "0    2286\n",
      "1    1640\n",
      "2     186\n",
      "3       4\n",
      "4      10\n",
      "5       6\n",
      "Name: DrugLabel, dtype: int64\n"
     ]
    },
    {
     "name": "stderr",
     "output_type": "stream",
     "text": [
      "\n"
     ]
    }
   ],
   "source": [
    "DUQ_I_new_df = pd.read_csv('DUQ_I_new_df.csv')\n",
    "DUQ_I_new_cols = DUQ_I_new_df.columns.tolist()\n",
    "DUQ_I_new_cols.remove('SEQN')\n",
    "DUQ_I_label_df = pd.DataFrame(columns=['SEQN',\"DrugLabel\"])\n",
    "for i in tqdm(range(len(DUQ_I_new_df))):\n",
    "    tmp_values = DUQ_I_new_df.iloc[i][DUQ_I_new_cols].values\n",
    "    label = np.argmax(tmp_values)\n",
    "    tmp_df = pd.DataFrame([[DUQ_I_new_df.iloc[i]['SEQN'],label]],columns=['SEQN',\"DrugLabel\"])\n",
    "    DUQ_I_label_df = DUQ_I_label_df.append(tmp_df)\n",
    "print(DUQ_I_label_df[\"DrugLabel\"].value_counts(sort=False))\n",
    "DUQ_I_label_df.to_csv('DUQ_I_label_df.csv',index=None)"
   ]
  },
  {
   "cell_type": "code",
   "execution_count": 7,
   "id": "dd09b7ed",
   "metadata": {},
   "outputs": [
    {
     "data": {
      "text/html": [
       "<div>\n",
       "<style scoped>\n",
       "    .dataframe tbody tr th:only-of-type {\n",
       "        vertical-align: middle;\n",
       "    }\n",
       "\n",
       "    .dataframe tbody tr th {\n",
       "        vertical-align: top;\n",
       "    }\n",
       "\n",
       "    .dataframe thead th {\n",
       "        text-align: right;\n",
       "    }\n",
       "</style>\n",
       "<table border=\"1\" class=\"dataframe\">\n",
       "  <thead>\n",
       "    <tr style=\"text-align: right;\">\n",
       "      <th></th>\n",
       "      <th>SEQN</th>\n",
       "      <th>DrugLabel</th>\n",
       "    </tr>\n",
       "  </thead>\n",
       "  <tbody>\n",
       "    <tr>\n",
       "      <th>0</th>\n",
       "      <td>83750</td>\n",
       "      <td>2</td>\n",
       "    </tr>\n",
       "    <tr>\n",
       "      <th>1</th>\n",
       "      <td>83733</td>\n",
       "      <td>0</td>\n",
       "    </tr>\n",
       "    <tr>\n",
       "      <th>2</th>\n",
       "      <td>83735</td>\n",
       "      <td>0</td>\n",
       "    </tr>\n",
       "    <tr>\n",
       "      <th>3</th>\n",
       "      <td>83750</td>\n",
       "      <td>1</td>\n",
       "    </tr>\n",
       "    <tr>\n",
       "      <th>4</th>\n",
       "      <td>83750</td>\n",
       "      <td>1</td>\n",
       "    </tr>\n",
       "  </tbody>\n",
       "</table>\n",
       "</div>"
      ],
      "text/plain": [
       "    SEQN  DrugLabel\n",
       "0  83750          2\n",
       "1  83733          0\n",
       "2  83735          0\n",
       "3  83750          1\n",
       "4  83750          1"
      ]
     },
     "execution_count": 7,
     "metadata": {},
     "output_type": "execute_result"
    }
   ],
   "source": [
    "dfQQ2=pd.read_csv('DUQ_I_label_df.csv')\n",
    "dfQQ2.head(5)"
   ]
  },
  {
   "cell_type": "markdown",
   "id": "16f32741",
   "metadata": {},
   "source": [
    "# Data Analysis"
   ]
  },
  {
   "cell_type": "markdown",
   "id": "c77027e0",
   "metadata": {},
   "source": [
    "## Drug Income"
   ]
  },
  {
   "cell_type": "code",
   "execution_count": 8,
   "id": "63e515f5",
   "metadata": {},
   "outputs": [
    {
     "name": "stdout",
     "output_type": "stream",
     "text": [
      "  IND235 no drug marijuana cocaine heroin methamphetamine needle\n",
      "0      1      65        71      28      4              11      4\n",
      "0      2      88        70      43     10              11      8\n",
      "0      3     207       126      67      9              20     15\n",
      "0      4     141       115      49      6              15      8\n",
      "0      5     190       119      46     10              11      7\n",
      "0      6     175       156      61     12              33      6\n",
      "0      7     254       181      62      6              23      4\n",
      "0      8     214       144      50      4              18      7\n",
      "0      9     136       101      34      2               8      3\n",
      "0     10     116       128      39      3              17      2\n",
      "0     11     164       102      43      2              20      6\n",
      "0     12     240       201      73      6              26      6\n",
      "   IND235  no drug  marijuana  cocaine  heroin  methamphetamine  needle\n",
      "0     1.0     0.47       0.51     0.20    0.03             0.08    0.03\n",
      "0     2.0     0.49       0.39     0.24    0.06             0.06    0.04\n",
      "0     3.0     0.58       0.35     0.19    0.03             0.06    0.04\n",
      "0     4.0     0.52       0.42     0.18    0.02             0.06    0.03\n",
      "0     5.0     0.59       0.37     0.14    0.03             0.03    0.02\n",
      "0     6.0     0.51       0.46     0.18    0.04             0.10    0.02\n",
      "0     7.0     0.57       0.41     0.14    0.01             0.05    0.01\n",
      "0     8.0     0.58       0.39     0.14    0.01             0.05    0.02\n",
      "0     9.0     0.55       0.41     0.14    0.01             0.03    0.01\n",
      "0    10.0     0.46       0.51     0.15    0.01             0.07    0.01\n",
      "0    11.0     0.59       0.37     0.16    0.01             0.07    0.02\n",
      "0    12.0     0.53       0.45     0.16    0.01             0.06    0.01\n"
     ]
    },
    {
     "data": {
      "image/png": "[encoded data removed]",
      "text/plain": [
       "<Figure size 720x576 with 1 Axes>"
      ]
     },
     "metadata": {
      "needs_background": "light"
     },
     "output_type": "display_data"
    },
    {
     "data": {
      "image/png": "[encoded data removed]",
      "text/plain": [
       "<Figure size 720x576 with 1 Axes>"
      ]
     },
     "metadata": {
      "needs_background": "light"
     },
     "output_type": "display_data"
    }
   ],
   "source": [
    "INQ_I_cols = np.load(\"INQ_I_cols.npy\")\n",
    "tot_df = pd.read_csv('tot_df.csv')\n",
    "DUQ_I_new_df = pd.read_csv('DUQ_I_new_df.csv')\n",
    "DUQ_I_new_cols = DUQ_I_new_df.columns.tolist()\n",
    "DUQ_I_new_cols.remove('SEQN')\n",
    "INQ_I_df = tot_df['IND235']\n",
    "INQ_DUQ_I_df = pd.concat([DUQ_I_new_df,INQ_I_df], axis=1)\n",
    "INQ_DUQ_I_df = INQ_DUQ_I_df.sort_values(by=['IND235'])\n",
    "INQ_DUQ_I_df = INQ_DUQ_I_df[(INQ_DUQ_I_df['IND235']>=1) & (INQ_DUQ_I_df['IND235']<=12)]\n",
    "INQ_DUQ_I_df= INQ_DUQ_I_df.drop(labels=['SEQN'],axis=1)\n",
    "# INQ_DUQ_I_df = tot_df[np.hstack(('SEQN','IND235',DUQ_I_cols))]\n",
    "# INQ_DUQ_I_df = INQ_DUQ_I_df.sort_values(by=['IND235'])\n",
    "# INQ_DUQ_I_df = INQ_DUQ_I_df[INQ_DUQ_I_df.IND235>=1].reset_index(drop=True)\n",
    "\n",
    "tmp_cnt_df = pd.DataFrame(columns=np.hstack(('IND235',DUQ_I_new_cols)))\n",
    "tmp_percent_cnt_df = pd.DataFrame(columns=np.hstack(('IND235',DUQ_I_new_cols)))\n",
    "for num in INQ_DUQ_I_df['IND235'].unique():\n",
    "    tmp_INQ_DUQ_I_df = INQ_DUQ_I_df[INQ_DUQ_I_df.IND235==num]\n",
    "    tmp_list = []\n",
    "    tmp_percent_list = []\n",
    "    for col in DUQ_I_new_cols:\n",
    "        tmp_list.append(len(tmp_INQ_DUQ_I_df)-tmp_INQ_DUQ_I_df[col].value_counts()[0])\n",
    "        tmp_percent_list.append(round((len(tmp_INQ_DUQ_I_df)-tmp_INQ_DUQ_I_df[col].value_counts()[0])/len(tmp_INQ_DUQ_I_df),2))\n",
    "#         \n",
    "    tmp_df = pd.DataFrame([np.hstack(([num],tmp_list))],columns=np.hstack(('IND235',DUQ_I_new_cols)))\n",
    "    tmp_cnt_df = tmp_cnt_df.append(tmp_df)\n",
    "    tmp_percent_df = pd.DataFrame([np.hstack(([num],tmp_percent_list))],columns=np.hstack(('IND235',DUQ_I_new_cols)))\n",
    "    tmp_percent_cnt_df = tmp_percent_cnt_df.append(tmp_percent_df)\n",
    "print(tmp_cnt_df)\n",
    "print(tmp_percent_cnt_df)\n",
    "\n",
    "ax_INC=tmp_cnt_df.plot(x=\"IND235\", y=DUQ_I_new_cols ,kind='bar',figsize=(10,8))\n",
    "plt.legend(loc=2,fontsize=8)\n",
    "ax_INC.set_xticklabels(labels=['$0-$399', '$400-$799','$800-$1249','$1250-$1649',\n",
    "                  '$1650-$2099','$2100-$2899','$2900-$3749','$3750-$4599',\n",
    "                  '$4600-$5399','$5400-$6249','$6250-$8399','$8400 and over'],\n",
    "       rotation=45, fontsize=10)\n",
    "plt.savefig('income_drug_pro.png')\n",
    "plt.title(\"Drug Use For Different Socioeconomic Groups\")\n",
    "plt.xlabel(\"Income Level\")\n",
    "plt.ylabel(\"Value Counts\")\n",
    "plt.show()\n",
    "\n",
    "ax_INC_precentage=tmp_percent_cnt_df.plot(x=\"IND235\", y=DUQ_I_new_cols ,kind='bar',figsize=(10,8))\n",
    "plt.legend(loc=2,fontsize=8)\n",
    "ax_INC_precentage.set_xticklabels(labels=['$0-$399', '$400-$799','$800-$1249','$1250-$1649',\n",
    "                  '$1650-$2099','$2100-$2899','$2900-$3749','$3750-$4599',\n",
    "                  '$4600-$5399','$5400-$6249','$6250-$8399','$8400 and over'],\n",
    "       rotation=45, fontsize=10)\n",
    "\n",
    "plt.title(\"Drug Percentage Use For Different Socioeconomic Groups\")\n",
    "plt.xlabel(\"Income Level\")\n",
    "plt.ylabel(\"Percentage\")\n",
    "plt.savefig('income_drug_pro_percent.png')\n",
    "plt.show()\n"
   ]
  },
  {
   "cell_type": "code",
   "execution_count": 9,
   "id": "b1511958",
   "metadata": {},
   "outputs": [
    {
     "data": {
      "text/html": [
       "<div>\n",
       "<style scoped>\n",
       "    .dataframe tbody tr th:only-of-type {\n",
       "        vertical-align: middle;\n",
       "    }\n",
       "\n",
       "    .dataframe tbody tr th {\n",
       "        vertical-align: top;\n",
       "    }\n",
       "\n",
       "    .dataframe thead th {\n",
       "        text-align: right;\n",
       "    }\n",
       "</style>\n",
       "<table border=\"1\" class=\"dataframe\">\n",
       "  <thead>\n",
       "    <tr style=\"text-align: right;\">\n",
       "      <th></th>\n",
       "      <th>IND235</th>\n",
       "      <th>no drug</th>\n",
       "      <th>marijuana</th>\n",
       "      <th>cocaine</th>\n",
       "      <th>heroin</th>\n",
       "      <th>methamphetamine</th>\n",
       "      <th>needle</th>\n",
       "    </tr>\n",
       "  </thead>\n",
       "  <tbody>\n",
       "    <tr>\n",
       "      <th>0</th>\n",
       "      <td>1</td>\n",
       "      <td>65</td>\n",
       "      <td>71</td>\n",
       "      <td>28</td>\n",
       "      <td>4</td>\n",
       "      <td>11</td>\n",
       "      <td>4</td>\n",
       "    </tr>\n",
       "    <tr>\n",
       "      <th>0</th>\n",
       "      <td>2</td>\n",
       "      <td>88</td>\n",
       "      <td>70</td>\n",
       "      <td>43</td>\n",
       "      <td>10</td>\n",
       "      <td>11</td>\n",
       "      <td>8</td>\n",
       "    </tr>\n",
       "    <tr>\n",
       "      <th>0</th>\n",
       "      <td>3</td>\n",
       "      <td>207</td>\n",
       "      <td>126</td>\n",
       "      <td>67</td>\n",
       "      <td>9</td>\n",
       "      <td>20</td>\n",
       "      <td>15</td>\n",
       "    </tr>\n",
       "    <tr>\n",
       "      <th>0</th>\n",
       "      <td>4</td>\n",
       "      <td>141</td>\n",
       "      <td>115</td>\n",
       "      <td>49</td>\n",
       "      <td>6</td>\n",
       "      <td>15</td>\n",
       "      <td>8</td>\n",
       "    </tr>\n",
       "    <tr>\n",
       "      <th>0</th>\n",
       "      <td>5</td>\n",
       "      <td>190</td>\n",
       "      <td>119</td>\n",
       "      <td>46</td>\n",
       "      <td>10</td>\n",
       "      <td>11</td>\n",
       "      <td>7</td>\n",
       "    </tr>\n",
       "    <tr>\n",
       "      <th>0</th>\n",
       "      <td>6</td>\n",
       "      <td>175</td>\n",
       "      <td>156</td>\n",
       "      <td>61</td>\n",
       "      <td>12</td>\n",
       "      <td>33</td>\n",
       "      <td>6</td>\n",
       "    </tr>\n",
       "    <tr>\n",
       "      <th>0</th>\n",
       "      <td>7</td>\n",
       "      <td>254</td>\n",
       "      <td>181</td>\n",
       "      <td>62</td>\n",
       "      <td>6</td>\n",
       "      <td>23</td>\n",
       "      <td>4</td>\n",
       "    </tr>\n",
       "    <tr>\n",
       "      <th>0</th>\n",
       "      <td>8</td>\n",
       "      <td>214</td>\n",
       "      <td>144</td>\n",
       "      <td>50</td>\n",
       "      <td>4</td>\n",
       "      <td>18</td>\n",
       "      <td>7</td>\n",
       "    </tr>\n",
       "    <tr>\n",
       "      <th>0</th>\n",
       "      <td>9</td>\n",
       "      <td>136</td>\n",
       "      <td>101</td>\n",
       "      <td>34</td>\n",
       "      <td>2</td>\n",
       "      <td>8</td>\n",
       "      <td>3</td>\n",
       "    </tr>\n",
       "    <tr>\n",
       "      <th>0</th>\n",
       "      <td>10</td>\n",
       "      <td>116</td>\n",
       "      <td>128</td>\n",
       "      <td>39</td>\n",
       "      <td>3</td>\n",
       "      <td>17</td>\n",
       "      <td>2</td>\n",
       "    </tr>\n",
       "    <tr>\n",
       "      <th>0</th>\n",
       "      <td>11</td>\n",
       "      <td>164</td>\n",
       "      <td>102</td>\n",
       "      <td>43</td>\n",
       "      <td>2</td>\n",
       "      <td>20</td>\n",
       "      <td>6</td>\n",
       "    </tr>\n",
       "    <tr>\n",
       "      <th>0</th>\n",
       "      <td>12</td>\n",
       "      <td>240</td>\n",
       "      <td>201</td>\n",
       "      <td>73</td>\n",
       "      <td>6</td>\n",
       "      <td>26</td>\n",
       "      <td>6</td>\n",
       "    </tr>\n",
       "  </tbody>\n",
       "</table>\n",
       "</div>"
      ],
      "text/plain": [
       "  IND235 no drug marijuana cocaine heroin methamphetamine needle\n",
       "0      1      65        71      28      4              11      4\n",
       "0      2      88        70      43     10              11      8\n",
       "0      3     207       126      67      9              20     15\n",
       "0      4     141       115      49      6              15      8\n",
       "0      5     190       119      46     10              11      7\n",
       "0      6     175       156      61     12              33      6\n",
       "0      7     254       181      62      6              23      4\n",
       "0      8     214       144      50      4              18      7\n",
       "0      9     136       101      34      2               8      3\n",
       "0     10     116       128      39      3              17      2\n",
       "0     11     164       102      43      2              20      6\n",
       "0     12     240       201      73      6              26      6"
      ]
     },
     "execution_count": 9,
     "metadata": {},
     "output_type": "execute_result"
    }
   ],
   "source": [
    "tmp_cnt_df"
   ]
  },
  {
   "cell_type": "code",
   "execution_count": 10,
   "id": "abc5f0ba",
   "metadata": {},
   "outputs": [
    {
     "name": "stdout",
     "output_type": "stream",
     "text": [
      "  DLQ010: Have serious difficulty hearing? \n",
      "  DLQ020: Have serious difficulty seeing? \n",
      "  DLQ040: Have serious difficulty concentrating? \n",
      "  DLQ050: Have serious difficulty walking? \n",
      "  DLQ060: Have difficulty dressing or bathing? \n",
      "  DLQ080: Have difficulty doing errands alone? \n",
      "  DLQ150: Take medication for depression?\n",
      "  ['DLQ010', 'DLQ020', 'DLQ040', 'DLQ050', 'DLQ060', 'DLQ080', 'DLQ150']\n",
      "2 [0.08, 0.08, 0.16, 0.25, 0.07, 0.08, 0.17]\n",
      "0 [0.06, 0.04, 0.08, 0.12, 0.04, 0.05, 0.07]\n",
      "1 [0.05, 0.05, 0.11, 0.09, 0.04, 0.07, 0.11]\n"
     ]
    }
   ],
   "source": [
    "DUQ_I_label_df = pd.read_csv('DUQ_I_label_df.csv')\n",
    "DUQ_I_label_cols = DUQ_I_label_df.columns.tolist()\n",
    "DUQ_I_label_cols.remove('SEQN')\n",
    "DLQ_I_cols = np.load(\"DLQ_I_cols.npy\")\n",
    "tot_df = pd.read_csv('tot_df.csv')\n",
    "DLQ_I_df = tot_df[DLQ_I_cols]\n",
    "DLQ_DUQ_I_label_df = pd.concat([DLQ_I_df,DUQ_I_label_df[DUQ_I_label_cols]], axis=1)\n",
    "tmp_cols_DLQ = DLQ_DUQ_I_label_df.columns.tolist()\n",
    "tmp_cols_DLQ.remove('DrugLabel')\n",
    "# print(DLQ_DUQ_I_label_df['DrugLabel'].value_counts(sort=False))\n",
    "\n",
    "# for label in DLQ_DUQ_I_label_df['DrugLabel'].unique():\n",
    "#     tmp_list = []\n",
    "#     tmp_df = DLQ_DUQ_I_label_df[DLQ_DUQ_I_label_df['DrugLabel']==label]\n",
    "#     for col in tmp_cols:\n",
    "#         tmp_list.append(round((tmp_df[col].value_counts()[1])/len(tmp_df),2))\n",
    "#     print(label,tmp_list)\n",
    "\n",
    "for col in DLQ_DUQ_I_label_df.columns:\n",
    "    DLQ_DUQ_I_label_df= DLQ_DUQ_I_label_df[DLQ_DUQ_I_label_df[col]<=2]\n",
    "# print(DLQ_DUQ_I_label_df['DrugLabel'].value_counts(sort=False))\n",
    "print('  DLQ010: Have serious difficulty hearing?','\\n',\n",
    "' DLQ020: Have serious difficulty seeing?','\\n',\n",
    "' DLQ040: Have serious difficulty concentrating?','\\n',\n",
    "' DLQ050: Have serious difficulty walking?','\\n',\n",
    "' DLQ060: Have difficulty dressing or bathing?','\\n',\n",
    "' DLQ080: Have difficulty doing errands alone?','\\n',\n",
    "' DLQ150: Take medication for depression?')\n",
    "print(' ',tmp_cols_DLQ)\n",
    "for label in DLQ_DUQ_I_label_df['DrugLabel'].unique():\n",
    "    tmp_list = []\n",
    "    tmp_df = DLQ_DUQ_I_label_df[DLQ_DUQ_I_label_df['DrugLabel']==label]\n",
    "    for col in tmp_cols_DLQ:\n",
    "        tmp_list.append(round((tmp_df[col].value_counts()[1])/len(tmp_df),2))\n",
    "    print(label,tmp_list)\n"
   ]
  },
  {
   "cell_type": "code",
   "execution_count": null,
   "id": "5f53faf4",
   "metadata": {},
   "outputs": [],
   "source": []
  },
  {
   "cell_type": "code",
   "execution_count": 11,
   "id": "e3b2774f",
   "metadata": {},
   "outputs": [
    {
     "name": "stdout",
     "output_type": "stream",
     "text": [
      "[19:56:01] WARNING: /opt/concourse/worker/volumes/live/7a2b9f41-3287-451b-6691-43e9a6c0910f/volume/xgboost-split_1619728204606/work/src/learner.cc:1061: Starting in XGBoost 1.3.0, the default evaluation metric used with the objective 'multi:softprob' was changed from 'merror' to 'mlogloss'. Explicitly set eval_metric if you'd like to restore the old behavior.\n",
      "Accuracy of XGBT: 0.5785627283800243\n",
      "Accuracy of DNN: 0.5773447015834349\n"
     ]
    }
   ],
   "source": [
    "from xgboost import XGBClassifier \n",
    "from xgboost import plot_tree\n",
    "from sklearn.neural_network import MLPClassifier\n",
    "X_1 = DLQ_DUQ_I_label_df[DLQ_I_cols].values\n",
    "y_1 = DLQ_DUQ_I_label_df['DrugLabel'].values\n",
    "X_train_1, X_test_1, y_train_1, y_test_1 = train_test_split(X_1, y_1, test_size = 0.2, random_state = 0)\n",
    "model_XGBoost_Drug = XGBClassifier(learning_rate=0.005,\n",
    "                      use_label_encoder=False,\n",
    "                      n_estimators=200,           # number of tree, every 10 tree set up xgboost\n",
    "                      max_depth=4,                # depth of tree\n",
    "                      min_child_weight = 1,       # \"1\": for every child need 100 sample, get the weight of child\n",
    "                      gamma=0.,                   # parameters\n",
    "                      subsample=1,                # set up the decision tree by all sample\n",
    "                      random_state=1,             # random number\n",
    "                      )\n",
    "model_XGBoost_Drug.fit(X_train_1,y_train_1)\n",
    "y_pred_1 = model_XGBoost_Drug.predict(X_test_1)\n",
    "accuracy_XGBoost_drug = accuracy_score(y_test_1, y_pred_1)\n",
    "print(\"Accuracy of XGBT:\", accuracy_XGBoost_drug)\n",
    "\n",
    "model_DNN_Drug = MLPClassifier(hidden_layer_sizes=(64), activation=\"relu\",\n",
    "                 solver='adam', alpha=0.0001,\n",
    "                 batch_size='auto', learning_rate=\"constant\",\n",
    "                 learning_rate_init=0.001, power_t=0.5, max_iter=400 ,tol=1e-4)\n",
    "\n",
    "model_DNN_Drug.fit(X_train_1,y_train_1)\n",
    "y_pred_1 = model_DNN_Drug.predict(X_test_1)\n",
    "accuracy_DNN_drug = accuracy_score(y_test_1, y_pred_1)\n",
    "print(\"Accuracy of DNN:\", accuracy_DNN_drug)\n",
    "\n",
    "\n"
   ]
  },
  {
   "cell_type": "code",
   "execution_count": null,
   "id": "dba36994",
   "metadata": {},
   "outputs": [],
   "source": [
    "X_1 = DLQ_DUQ_I_label_df[DLQ_I_cols]\n",
    "\n",
    "X_1"
   ]
  },
  {
   "cell_type": "code",
   "execution_count": null,
   "id": "f0e8bd2b",
   "metadata": {},
   "outputs": [],
   "source": [
    "y_1 = DLQ_DUQ_I_label_df['DrugLabel'].values"
   ]
  },
  {
   "cell_type": "markdown",
   "id": "4e3f4d75",
   "metadata": {},
   "source": [
    "## Drug Health Status"
   ]
  },
  {
   "cell_type": "code",
   "execution_count": 471,
   "id": "ecc6d86c",
   "metadata": {},
   "outputs": [
    {
     "data": {
      "text/html": [
       "<div>\n",
       "<style scoped>\n",
       "    .dataframe tbody tr th:only-of-type {\n",
       "        vertical-align: middle;\n",
       "    }\n",
       "\n",
       "    .dataframe tbody tr th {\n",
       "        vertical-align: top;\n",
       "    }\n",
       "\n",
       "    .dataframe thead th {\n",
       "        text-align: right;\n",
       "    }\n",
       "</style>\n",
       "<table border=\"1\" class=\"dataframe\">\n",
       "  <thead>\n",
       "    <tr style=\"text-align: right;\">\n",
       "      <th></th>\n",
       "      <th>IND235</th>\n",
       "    </tr>\n",
       "  </thead>\n",
       "  <tbody>\n",
       "    <tr>\n",
       "      <th>0</th>\n",
       "      <td>10</td>\n",
       "    </tr>\n",
       "    <tr>\n",
       "      <th>1</th>\n",
       "      <td>1</td>\n",
       "    </tr>\n",
       "    <tr>\n",
       "      <th>2</th>\n",
       "      <td>7</td>\n",
       "    </tr>\n",
       "    <tr>\n",
       "      <th>3</th>\n",
       "      <td>7</td>\n",
       "    </tr>\n",
       "    <tr>\n",
       "      <th>4</th>\n",
       "      <td>9</td>\n",
       "    </tr>\n",
       "    <tr>\n",
       "      <th>...</th>\n",
       "      <td>...</td>\n",
       "    </tr>\n",
       "    <tr>\n",
       "      <th>4127</th>\n",
       "      <td>3</td>\n",
       "    </tr>\n",
       "    <tr>\n",
       "      <th>4128</th>\n",
       "      <td>12</td>\n",
       "    </tr>\n",
       "    <tr>\n",
       "      <th>4129</th>\n",
       "      <td>10</td>\n",
       "    </tr>\n",
       "    <tr>\n",
       "      <th>4130</th>\n",
       "      <td>8</td>\n",
       "    </tr>\n",
       "    <tr>\n",
       "      <th>4131</th>\n",
       "      <td>8</td>\n",
       "    </tr>\n",
       "  </tbody>\n",
       "</table>\n",
       "<p>4132 rows × 1 columns</p>\n",
       "</div>"
      ],
      "text/plain": [
       "      IND235\n",
       "0         10\n",
       "1          1\n",
       "2          7\n",
       "3          7\n",
       "4          9\n",
       "...      ...\n",
       "4127       3\n",
       "4128      12\n",
       "4129      10\n",
       "4130       8\n",
       "4131       8\n",
       "\n",
       "[4132 rows x 1 columns]"
      ]
     },
     "execution_count": 471,
     "metadata": {},
     "output_type": "execute_result"
    }
   ],
   "source": [
    "#INQ_I_df_Inc_saving=INQ_I_df.drop(labels=['INQ020','INQ012','INQ030','INQ060','INQ080','INQ090','INQ132',\n",
    "#                      'INQ140','INQ150','INQ300','INDFMMPC'],axis=1)\n",
    "INQ_I_df_Inc_saving"
   ]
  },
  {
   "cell_type": "code",
   "execution_count": 449,
   "id": "9fa2c3ab",
   "metadata": {},
   "outputs": [],
   "source": [
    "DUQ_I_label_df = pd.read_csv('DUQ_I_label_df.csv')\n",
    "DUQ_I_label_cols = DUQ_I_label_df.columns.tolist()\n",
    "DUQ_I_label_cols.remove('SEQN')\n",
    "HSQ_I_cols = np.load(\"HSQ_I_cols.npy\")\n",
    "tot_df = pd.read_csv('tot_df.csv')\n",
    "DLQ_I_df = tot_df[HSQ_I_cols]\n",
    "HSQ_DUQ_I_label_df = pd.concat([DLQ_I_df,DUQ_I_label_df[DUQ_I_label_cols]], axis=1)\n",
    "#no General\n",
    "HSQ_DUQ_I_label_df_noGen=HSQ_DUQ_I_label_df.drop(labels=['HSD010'],axis=1)\n",
    "#only General\n",
    "HSQ_DUQ_I_label_df_Gen=HSQ_DUQ_I_label_df.drop(labels=['HSQ500','HSQ510','HSQ520','HSQ590'],axis=1)\n",
    "#tmp_cols_HSD = HSQ_DUQ_I_label_df.columns.tolist()\n",
    "#tmp_cols_HSD.remove('DrugLabel')\n",
    "## print(HSQ_DUQ_I_label_df['DrugLabel'].value_counts(sort=False))\n",
    "\n",
    "#for col in HSQ_DUQ_I_label_df.columns:\n",
    "#    HSQ_DUQ_I_label_df= HSQ_DUQ_I_label_df[HSQ_DUQ_I_label_df[col]<=5]\n",
    "## print(HSQ_DUQ_I_label_df['DrugLabel'].value_counts(sort=False))\n",
    "\n",
    "#for label in HSQ_DUQ_I_label_df['DrugLabel'].unique():\n",
    "#    tmp_list = []\n",
    "#    tmp_df = HSQ_DUQ_I_label_df[HSQ_DUQ_I_label_df['DrugLabel']==label]\n",
    "\n",
    "\n",
    "#    for c in tmp_cols_HSD:\n",
    "#        tmp_dict = dict(tmp_df[c].value_counts())\n",
    "#        for key,value in tmp_dict.items():\n",
    "#            tmp_dict[key] = round(value/sum(dict(tmp_df[c].value_counts(sort=False)).values()),2)\n",
    "#        tmp_list.append({c:tmp_dict})\n",
    "    \n",
    "#        # tmp_list.append(round((len(tmp_df)-tmp_df[col].value_counts()[1])/len(tmp_df),2))\n",
    "#    print(label,tmp_list,'\\n')\n"
   ]
  },
  {
   "cell_type": "code",
   "execution_count": 450,
   "id": "06ed7eb9",
   "metadata": {},
   "outputs": [
    {
     "name": "stdout",
     "output_type": "stream",
     "text": [
      "2 [{'HSQ500': {2: 0.79, 1: 0.21}}, {'HSQ510': {2: 0.93, 1: 0.07}}, {'HSQ520': {2: 0.93, 1: 0.07}}, {'HSQ590': {1: 0.51, 2: 0.49}}] \n",
      "\n",
      "0 [{'HSQ500': {2: 0.84, 1: 0.16}}, {'HSQ510': {2: 0.94, 1: 0.06}}, {'HSQ520': {2: 0.96, 1: 0.04}}, {'HSQ590': {2: 0.66, 1: 0.34}}] \n",
      "\n",
      "1 [{'HSQ500': {2: 0.83, 1: 0.17}}, {'HSQ510': {2: 0.91, 1: 0.09}}, {'HSQ520': {2: 0.97, 1: 0.03}}, {'HSQ590': {1: 0.52, 2: 0.48}}] \n",
      "\n",
      "5 [{'HSQ500': {2: 0.67, 1: 0.33}}, {'HSQ510': {2: 1.0}}, {'HSQ520': {2: 0.83, 1: 0.17}}, {'HSQ590': {1: 0.67, 2: 0.33}}] \n",
      "\n",
      "3 [{'HSQ500': {2: 1.0}}, {'HSQ510': {2: 1.0}}, {'HSQ520': {2: 1.0}}, {'HSQ590': {1: 0.5, 2: 0.5}}] \n",
      "\n",
      "4 [{'HSQ500': {2: 0.7, 1: 0.3}}, {'HSQ510': {2: 0.6, 1: 0.4}}, {'HSQ520': {2: 0.9, 1: 0.1}}, {'HSQ590': {1: 0.8, 2: 0.2}}] \n",
      "\n"
     ]
    }
   ],
   "source": [
    "tmp_cols_HSD = HSQ_DUQ_I_label_df_noGen.columns.tolist()\n",
    "tmp_cols_HSD.remove('DrugLabel')\n",
    "# print(HSQ_DUQ_I_label_df['DrugLabel'].value_counts(sort=False))\n",
    "\n",
    "for col in HSQ_DUQ_I_label_df_noGen.columns:\n",
    "    HSQ_DUQ_I_label_df_noGen= HSQ_DUQ_I_label_df_noGen[HSQ_DUQ_I_label_df_noGen[col]<=5]\n",
    "# print(HSQ_DUQ_I_label_df['DrugLabel'].value_counts(sort=False))\n",
    "\n",
    "for label in HSQ_DUQ_I_label_df_noGen['DrugLabel'].unique():\n",
    "    tmp_list = []\n",
    "    tmp_df = HSQ_DUQ_I_label_df_noGen[HSQ_DUQ_I_label_df_noGen['DrugLabel']==label]\n",
    "\n",
    "\n",
    "    for c in tmp_cols_HSD:\n",
    "        tmp_dict = dict(tmp_df[c].value_counts())\n",
    "        for key,value in tmp_dict.items():\n",
    "            tmp_dict[key] = round(value/sum(dict(tmp_df[c].value_counts(sort=False)).values()),2)\n",
    "        tmp_list.append({c:tmp_dict})\n",
    "    \n",
    "        # tmp_list.append(round((len(tmp_df)-tmp_df[col].value_counts()[1])/len(tmp_df),2))\n",
    "    print(label,tmp_list,'\\n')"
   ]
  },
  {
   "cell_type": "code",
   "execution_count": 451,
   "id": "1d4fe4d4",
   "metadata": {},
   "outputs": [
    {
     "name": "stdout",
     "output_type": "stream",
     "text": [
      "2 [{'HSD010': {3: 0.43, 4: 0.31, 2: 0.16, 5: 0.06, 1: 0.05}}] \n",
      "\n",
      "0 [{'HSD010': {3: 0.41, 2: 0.25, 4: 0.23, 1: 0.09, 5: 0.03}}] \n",
      "\n",
      "1 [{'HSD010': {3: 0.42, 2: 0.28, 4: 0.19, 1: 0.08, 5: 0.03}}] \n",
      "\n",
      "5 [{'HSD010': {2: 0.5, 1: 0.33, 4: 0.17}}] \n",
      "\n",
      "3 [{'HSD010': {4: 0.5, 3: 0.5}}] \n",
      "\n",
      "4 [{'HSD010': {4: 0.4, 3: 0.3, 1: 0.1, 2: 0.1, 5: 0.1}}] \n",
      "\n"
     ]
    }
   ],
   "source": [
    "#  only HSQ_DUQ_I_label_df General health condition\n",
    "tmp_cols_HSD_GEN = HSQ_DUQ_I_label_df_Gen.columns.tolist()\n",
    "tmp_cols_HSD_GEN.remove('DrugLabel')\n",
    "# print(HSQ_DUQ_I_label_df['DrugLabel'].value_counts(sort=False))\n",
    "\n",
    "for col in HSQ_DUQ_I_label_df_Gen.columns:\n",
    "    HSQ_DUQ_I_label_df_Gen= HSQ_DUQ_I_label_df_Gen[HSQ_DUQ_I_label_df_Gen[col]<=5]\n",
    "# print(HSQ_DUQ_I_label_df['DrugLabel'].value_counts(sort=False))\n",
    "\n",
    "for label in HSQ_DUQ_I_label_df_Gen['DrugLabel'].unique():\n",
    "    tmp_list = []\n",
    "    tmp_df = HSQ_DUQ_I_label_df_Gen[HSQ_DUQ_I_label_df_Gen['DrugLabel']==label]\n",
    "\n",
    "\n",
    "    for c in tmp_cols_HSD_GEN:\n",
    "        tmp_dict = dict(tmp_df[c].value_counts())\n",
    "        for key,value in tmp_dict.items():\n",
    "            tmp_dict[key] = round(value/sum(dict(tmp_df[c].value_counts(sort=False)).values()),2)\n",
    "        tmp_list.append({c:tmp_dict})\n",
    "    \n",
    "        # tmp_list.append(round((len(tmp_df)-tmp_df[col].value_counts()[1])/len(tmp_df),2))\n",
    "    print(label,tmp_list,'\\n')"
   ]
  },
  {
   "cell_type": "code",
   "execution_count": 452,
   "id": "e513bf9b",
   "metadata": {},
   "outputs": [
    {
     "name": "stdout",
     "output_type": "stream",
     "text": [
      "[23:41:23] WARNING: /opt/concourse/worker/volumes/live/7a2b9f41-3287-451b-6691-43e9a6c0910f/volume/xgboost-split_1619728204606/work/src/learner.cc:1061: Starting in XGBoost 1.3.0, the default evaluation metric used with the objective 'multi:softprob' was changed from 'merror' to 'mlogloss'. Explicitly set eval_metric if you'd like to restore the old behavior.\n",
      "Accuracy of XGBT: 0.5743651753325272\n",
      "Acc of DNN: 0.5610640870616687\n"
     ]
    }
   ],
   "source": [
    "from xgboost import XGBClassifier \n",
    "from sklearn.neural_network import MLPClassifier\n",
    "\n",
    "X = HSQ_DUQ_I_label_df[HSQ_I_cols].values\n",
    "y = HSQ_DUQ_I_label_df['DrugLabel'].values\n",
    "X_train, X_test, y_train, y_test = train_test_split(X, y, test_size = 0.2, random_state = 0)\n",
    "model_XGBoost = XGBClassifier(learning_rate=0.005,\n",
    "                      use_label_encoder=False,\n",
    "                      n_estimators=200,           # number of tree, every 10 tree set up xgboost\n",
    "                      max_depth=4,                # depth of tree\n",
    "                      min_child_weight = 1,       # \"1\": for every child need 100 sample, get the weight of child\n",
    "                      gamma=0.,                   # parameters\n",
    "                      subsample=1,                # set up the decision tree by all sample\n",
    "                      random_state=1,             # random number\n",
    "                      )\n",
    "model_XGBoost.fit(X_train,y_train)\n",
    "y_pred = model_XGBoost.predict(X_test)\n",
    "accuracy_XGBoost = accuracy_score(y_test, y_pred)\n",
    "print(\"Accuracy of XGBT:\",accuracy_XGBoost)\n",
    "\n",
    "model_DNN = MLPClassifier(hidden_layer_sizes=(64), activation=\"relu\",\n",
    "                 solver='adam', alpha=0.0001,\n",
    "                 batch_size='auto', learning_rate=\"constant\",\n",
    "                 learning_rate_init=0.001, power_t=0.5, max_iter=400 ,tol=1e-4)\n",
    "\n",
    "model_DNN.fit(X_train,y_train)\n",
    "y_pred = model_DNN.predict(X_test)\n",
    "accuracy_DNN = accuracy_score(y_test, y_pred)\n",
    "print(\"Acc of DNN:\", accuracy_DNN)"
   ]
  },
  {
   "cell_type": "markdown",
   "id": "13124f04",
   "metadata": {},
   "source": [
    "# Data Visualization"
   ]
  },
  {
   "cell_type": "code",
   "execution_count": 453,
   "id": "4e4fd092",
   "metadata": {},
   "outputs": [
    {
     "data": {
      "image/png": "[encoded data removed]",
      "text/plain": [
       "<Figure size 800x640 with 1 Axes>"
      ]
     },
     "metadata": {
      "needs_background": "light"
     },
     "output_type": "display_data"
    }
   ],
   "source": [
    "tot_df = pd.read_csv('tot_df.csv')\n",
    "tot_df =tot_df.drop(labels=['SEQN'],axis=1)\n",
    "INQ_I_cols = np.load('INQ_I_cols.npy')\n",
    "INQ_I_df = tot_df[INQ_I_cols]\n",
    "INQ_I_df_Inc_saving=INQ_I_df.drop(labels=['INQ020','INQ012','INQ030','INQ060','INQ080','INQ090','INQ132',\n",
    "                      'INQ140','INQ150','INQ300','INDFMMPC','INQ320'],axis=1)\n",
    "plt.figure(figsize=(10,8), dpi= 80) \n",
    "INQ_I_df_Inc_saving.boxplot()\n",
    "plt.tick_params(labelsize=10)\n",
    "plt.title(\"Monthly family income with Total savings/cash assets\")\n",
    "plt.xlabel(\"\")\n",
    "plt.ylabel(\"Total Confirmed Cases\")\n",
    "plt.savefig('INC-savings-df.png',dpi=600)\n"
   ]
  },
  {
   "cell_type": "code",
   "execution_count": null,
   "id": "9ba812d4",
   "metadata": {},
   "outputs": [],
   "source": [
    "INQ_I_df"
   ]
  },
  {
   "cell_type": "code",
   "execution_count": 454,
   "id": "83d76602",
   "metadata": {},
   "outputs": [
    {
     "data": {
      "text/html": [
       "<div>\n",
       "<style scoped>\n",
       "    .dataframe tbody tr th:only-of-type {\n",
       "        vertical-align: middle;\n",
       "    }\n",
       "\n",
       "    .dataframe tbody tr th {\n",
       "        vertical-align: top;\n",
       "    }\n",
       "\n",
       "    .dataframe thead th {\n",
       "        text-align: right;\n",
       "    }\n",
       "</style>\n",
       "<table border=\"1\" class=\"dataframe\">\n",
       "  <thead>\n",
       "    <tr style=\"text-align: right;\">\n",
       "      <th></th>\n",
       "      <th>income_value</th>\n",
       "      <th>Counts</th>\n",
       "    </tr>\n",
       "  </thead>\n",
       "  <tbody>\n",
       "    <tr>\n",
       "      <th>12</th>\n",
       "      <td>1</td>\n",
       "      <td>139</td>\n",
       "    </tr>\n",
       "    <tr>\n",
       "      <th>11</th>\n",
       "      <td>2</td>\n",
       "      <td>178</td>\n",
       "    </tr>\n",
       "    <tr>\n",
       "      <th>3</th>\n",
       "      <td>3</td>\n",
       "      <td>359</td>\n",
       "    </tr>\n",
       "    <tr>\n",
       "      <th>8</th>\n",
       "      <td>4</td>\n",
       "      <td>271</td>\n",
       "    </tr>\n",
       "    <tr>\n",
       "      <th>6</th>\n",
       "      <td>5</td>\n",
       "      <td>324</td>\n",
       "    </tr>\n",
       "    <tr>\n",
       "      <th>5</th>\n",
       "      <td>6</td>\n",
       "      <td>342</td>\n",
       "    </tr>\n",
       "    <tr>\n",
       "      <th>1</th>\n",
       "      <td>7</td>\n",
       "      <td>446</td>\n",
       "    </tr>\n",
       "    <tr>\n",
       "      <th>2</th>\n",
       "      <td>8</td>\n",
       "      <td>367</td>\n",
       "    </tr>\n",
       "    <tr>\n",
       "      <th>10</th>\n",
       "      <td>9</td>\n",
       "      <td>247</td>\n",
       "    </tr>\n",
       "    <tr>\n",
       "      <th>9</th>\n",
       "      <td>10</td>\n",
       "      <td>252</td>\n",
       "    </tr>\n",
       "    <tr>\n",
       "      <th>7</th>\n",
       "      <td>11</td>\n",
       "      <td>276</td>\n",
       "    </tr>\n",
       "    <tr>\n",
       "      <th>0</th>\n",
       "      <td>12</td>\n",
       "      <td>450</td>\n",
       "    </tr>\n",
       "  </tbody>\n",
       "</table>\n",
       "</div>"
      ],
      "text/plain": [
       "    income_value  Counts\n",
       "12             1     139\n",
       "11             2     178\n",
       "3              3     359\n",
       "8              4     271\n",
       "6              5     324\n",
       "5              6     342\n",
       "1              7     446\n",
       "2              8     367\n",
       "10             9     247\n",
       "9             10     252\n",
       "7             11     276\n",
       "0             12     450"
      ]
     },
     "execution_count": 454,
     "metadata": {},
     "output_type": "execute_result"
    }
   ],
   "source": [
    "INQ_I_df_INCOME=INQ_I_df['IND235'].reset_index()\n",
    "INQ_I_df_INCOME=INQ_I_df_INCOME.drop(labels='index',axis=1)\n",
    "tem_income_table=INQ_I_df_INCOME.value_counts().reset_index()\n",
    "tem_income_table=tem_income_table.rename(columns={'IND235': 'income_value', 0: 'Counts'})\n",
    "tem_income_table=tem_income_table.sort_values(by='income_value')\n",
    "tem_income_table=tem_income_table.drop([14,13,4])\n",
    "tem_income_table"
   ]
  },
  {
   "cell_type": "code",
   "execution_count": 455,
   "id": "c6560f47",
   "metadata": {},
   "outputs": [
    {
     "name": "stderr",
     "output_type": "stream",
     "text": [
      "/Users/yutingguo/opt/anaconda3/lib/python3.8/site-packages/seaborn/_decorators.py:36: FutureWarning: Pass the following variables as keyword args: x, y. From version 0.12, the only valid positional argument will be `data`, and passing other arguments without an explicit keyword will result in an error or misinterpretation.\n",
      "  warnings.warn(\n"
     ]
    },
    {
     "data": {
      "image/png": "[encoded data removed]",
      "text/plain": [
       "<Figure size 800x640 with 1 Axes>"
      ]
     },
     "metadata": {
      "needs_background": "light"
     },
     "output_type": "display_data"
    }
   ],
   "source": [
    "A=tem_income_table['income_value']\n",
    "B=tem_income_table['Counts']\n",
    "plt.figure(figsize=(10,8), dpi= 80) \n",
    "\n",
    "ax=sns.barplot(\"income_value\", \"Counts\", data=tem_income_table,color='#6495ED')\n",
    "\n",
    "\n",
    "for a, b in zip(A, B):\n",
    "    plt.text(a-1, b, b, ha='center', va='bottom', fontsize=12)\n",
    "\n",
    "plt.title(\"Monthly family income(IND235) distribution\")\n",
    "plt.xlabel(\"Value description ($)\")\n",
    "plt.ylabel(\"Value counts\")\n",
    "ax.set_xticklabels(labels=['$0-$399', '$400-$799','$800-$1249','$1250-$1649',\n",
    "                  '$1650-$2099','$2100-$2899','$2900-$3749','$3750-$4599',\n",
    "                  '$4600-$5399','$5400-$6249','$6250-$8399','$8400 and over'],\n",
    "       rotation=45, fontsize=8)\n",
    "\n",
    "plt.savefig('INC-Income-barplot.png',dpi=600)"
   ]
  },
  {
   "cell_type": "code",
   "execution_count": 456,
   "id": "7821e582",
   "metadata": {},
   "outputs": [
    {
     "data": {
      "text/html": [
       "<div>\n",
       "<style scoped>\n",
       "    .dataframe tbody tr th:only-of-type {\n",
       "        vertical-align: middle;\n",
       "    }\n",
       "\n",
       "    .dataframe tbody tr th {\n",
       "        vertical-align: top;\n",
       "    }\n",
       "\n",
       "    .dataframe thead th {\n",
       "        text-align: right;\n",
       "    }\n",
       "</style>\n",
       "<table border=\"1\" class=\"dataframe\">\n",
       "  <thead>\n",
       "    <tr style=\"text-align: right;\">\n",
       "      <th></th>\n",
       "      <th>INQ020</th>\n",
       "      <th>INQ012</th>\n",
       "      <th>INQ030</th>\n",
       "      <th>INQ060</th>\n",
       "      <th>INQ080</th>\n",
       "      <th>INQ090</th>\n",
       "      <th>INQ132</th>\n",
       "      <th>INQ140</th>\n",
       "      <th>INQ150</th>\n",
       "      <th>IND235</th>\n",
       "      <th>INDFMMPC</th>\n",
       "      <th>INQ300</th>\n",
       "      <th>INQ320</th>\n",
       "    </tr>\n",
       "  </thead>\n",
       "  <tbody>\n",
       "    <tr>\n",
       "      <th>0</th>\n",
       "      <td>1</td>\n",
       "      <td>2</td>\n",
       "      <td>2</td>\n",
       "      <td>2</td>\n",
       "      <td>2</td>\n",
       "      <td>2</td>\n",
       "      <td>2</td>\n",
       "      <td>1</td>\n",
       "      <td>2</td>\n",
       "      <td>10</td>\n",
       "      <td>3</td>\n",
       "      <td>1</td>\n",
       "      <td>1</td>\n",
       "    </tr>\n",
       "    <tr>\n",
       "      <th>1</th>\n",
       "      <td>1</td>\n",
       "      <td>2</td>\n",
       "      <td>2</td>\n",
       "      <td>2</td>\n",
       "      <td>2</td>\n",
       "      <td>2</td>\n",
       "      <td>2</td>\n",
       "      <td>2</td>\n",
       "      <td>2</td>\n",
       "      <td>1</td>\n",
       "      <td>1</td>\n",
       "      <td>2</td>\n",
       "      <td>1</td>\n",
       "    </tr>\n",
       "    <tr>\n",
       "      <th>2</th>\n",
       "      <td>1</td>\n",
       "      <td>2</td>\n",
       "      <td>2</td>\n",
       "      <td>2</td>\n",
       "      <td>2</td>\n",
       "      <td>2</td>\n",
       "      <td>2</td>\n",
       "      <td>1</td>\n",
       "      <td>2</td>\n",
       "      <td>7</td>\n",
       "      <td>3</td>\n",
       "      <td>2</td>\n",
       "      <td>1</td>\n",
       "    </tr>\n",
       "    <tr>\n",
       "      <th>3</th>\n",
       "      <td>1</td>\n",
       "      <td>1</td>\n",
       "      <td>2</td>\n",
       "      <td>2</td>\n",
       "      <td>2</td>\n",
       "      <td>2</td>\n",
       "      <td>2</td>\n",
       "      <td>2</td>\n",
       "      <td>2</td>\n",
       "      <td>7</td>\n",
       "      <td>2</td>\n",
       "      <td>2</td>\n",
       "      <td>1</td>\n",
       "    </tr>\n",
       "    <tr>\n",
       "      <th>4</th>\n",
       "      <td>1</td>\n",
       "      <td>2</td>\n",
       "      <td>2</td>\n",
       "      <td>2</td>\n",
       "      <td>2</td>\n",
       "      <td>2</td>\n",
       "      <td>2</td>\n",
       "      <td>2</td>\n",
       "      <td>1</td>\n",
       "      <td>9</td>\n",
       "      <td>3</td>\n",
       "      <td>2</td>\n",
       "      <td>1</td>\n",
       "    </tr>\n",
       "  </tbody>\n",
       "</table>\n",
       "</div>"
      ],
      "text/plain": [
       "   INQ020  INQ012  INQ030  INQ060  INQ080  INQ090  INQ132  INQ140  INQ150  \\\n",
       "0       1       2       2       2       2       2       2       1       2   \n",
       "1       1       2       2       2       2       2       2       2       2   \n",
       "2       1       2       2       2       2       2       2       1       2   \n",
       "3       1       1       2       2       2       2       2       2       2   \n",
       "4       1       2       2       2       2       2       2       2       1   \n",
       "\n",
       "   IND235  INDFMMPC  INQ300  INQ320  \n",
       "0      10         3       1       1  \n",
       "1       1         1       2       1  \n",
       "2       7         3       2       1  \n",
       "3       7         2       2       1  \n",
       "4       9         3       2       1  "
      ]
     },
     "execution_count": 456,
     "metadata": {},
     "output_type": "execute_result"
    }
   ],
   "source": [
    "INQ_I_df.head(5)"
   ]
  },
  {
   "cell_type": "code",
   "execution_count": 457,
   "id": "8949423c",
   "metadata": {},
   "outputs": [
    {
     "data": {
      "text/plain": [
       "1    3489\n",
       "2     603\n",
       "9      27\n",
       "7      13\n",
       "Name: INQ020, dtype: int64"
      ]
     },
     "execution_count": 457,
     "metadata": {},
     "output_type": "execute_result"
    }
   ],
   "source": [
    "INQ_I_df['INQ020'].value_counts()"
   ]
  },
  {
   "cell_type": "code",
   "execution_count": 458,
   "id": "cfd5369a",
   "metadata": {},
   "outputs": [
    {
     "data": {
      "image/png": "[encoded data removed]",
      "text/plain": [
       "<Figure size 800x640 with 1 Axes>"
      ]
     },
     "metadata": {
      "needs_background": "light"
     },
     "output_type": "display_data"
    }
   ],
   "source": [
    "HSQ_I_cols = np.load('HSQ_I_cols.npy')\n",
    "HSQ_I_df = tot_df[HSQ_I_cols]\n",
    "plt.figure(figsize=(10,8), dpi= 80)\n",
    "ax_1=HSQ_I_df.boxplot()\n",
    "#ax.set_yticklabels()\n",
    "plt.tick_params(labelsize=10)\n",
    "plt.title(\"Current health status distribution\")\n",
    "plt.xlabel(\"Health Status\")\n",
    "plt.ylabel(\"Level\")\n",
    "plt.savefig('HSQ-I-df.png',dpi=600)"
   ]
  },
  {
   "cell_type": "code",
   "execution_count": 459,
   "id": "706da3c3",
   "metadata": {},
   "outputs": [],
   "source": [
    "HSQ_I_df_HSD010=HSQ_I_df['HSD010'].value_counts().reset_index()\n",
    "HSQ_I_df_HSQ500=HSQ_I_df['HSQ500'].value_counts().reset_index()\n",
    "HSQ_I_df_HSQ510=HSQ_I_df['HSQ510'].value_counts().reset_index()\n",
    "HSQ_I_df_HSQ520=HSQ_I_df['HSQ520'].value_counts().reset_index()\n",
    "HSQ_I_df_HSQ590=HSQ_I_df['HSQ590'].value_counts().reset_index()\n"
   ]
  },
  {
   "cell_type": "code",
   "execution_count": 460,
   "id": "6f7edac6",
   "metadata": {},
   "outputs": [
    {
     "data": {
      "text/html": [
       "<div>\n",
       "<style scoped>\n",
       "    .dataframe tbody tr th:only-of-type {\n",
       "        vertical-align: middle;\n",
       "    }\n",
       "\n",
       "    .dataframe tbody tr th {\n",
       "        vertical-align: top;\n",
       "    }\n",
       "\n",
       "    .dataframe thead th {\n",
       "        text-align: right;\n",
       "    }\n",
       "</style>\n",
       "<table border=\"1\" class=\"dataframe\">\n",
       "  <thead>\n",
       "    <tr style=\"text-align: right;\">\n",
       "      <th>index</th>\n",
       "      <th>2</th>\n",
       "      <th>1</th>\n",
       "      <th>9</th>\n",
       "    </tr>\n",
       "  </thead>\n",
       "  <tbody>\n",
       "    <tr>\n",
       "      <th>HSQ500</th>\n",
       "      <td>3426</td>\n",
       "      <td>700</td>\n",
       "      <td>6</td>\n",
       "    </tr>\n",
       "    <tr>\n",
       "      <th>HSQ510</th>\n",
       "      <td>3828</td>\n",
       "      <td>297</td>\n",
       "      <td>7</td>\n",
       "    </tr>\n",
       "    <tr>\n",
       "      <th>HSQ510</th>\n",
       "      <td>3828</td>\n",
       "      <td>297</td>\n",
       "      <td>7</td>\n",
       "    </tr>\n",
       "    <tr>\n",
       "      <th>HSQ590</th>\n",
       "      <td>2301</td>\n",
       "      <td>1682</td>\n",
       "      <td>149</td>\n",
       "    </tr>\n",
       "  </tbody>\n",
       "</table>\n",
       "</div>"
      ],
      "text/plain": [
       "index      2     1    9\n",
       "HSQ500  3426   700    6\n",
       "HSQ510  3828   297    7\n",
       "HSQ510  3828   297    7\n",
       "HSQ590  2301  1682  149"
      ]
     },
     "execution_count": 460,
     "metadata": {},
     "output_type": "execute_result"
    }
   ],
   "source": [
    "HSQ_I_df_HSQ590_T=np.transpose(HSQ_I_df_HSQ590)\n",
    "new_header = HSQ_I_df_HSQ590_T.iloc[0] #grab the first row for the header\n",
    "HSQ_I_df_HSQ590_T = HSQ_I_df_HSQ590_T[1:] #take the data less the header row\n",
    "HSQ_I_df_HSQ590_T.columns = new_header #set the header row as the df header\n",
    "HSQ_I_df_HSQ590_T\n",
    "\n",
    "HSQ_I_df_HSQ520_T=np.transpose(HSQ_I_df_HSQ520)\n",
    "new_header2 = HSQ_I_df_HSQ520_T.iloc[0] #grab the first row for the header\n",
    "HSQ_I_df_HSQ520_T = HSQ_I_df_HSQ520_T[1:] #take the data less the header row\n",
    "HSQ_I_df_HSQ520_T.columns = new_header #set the header row as the df header\n",
    "HSQ_I_df_HSQ510_T\n",
    "\n",
    "HSQ_I_df_HSQ510_T=np.transpose(HSQ_I_df_HSQ510)\n",
    "new_header1 = HSQ_I_df_HSQ510_T.iloc[0] #grab the first row for the header\n",
    "HSQ_I_df_HSQ510_T = HSQ_I_df_HSQ510_T[1:] #take the data less the header row\n",
    "HSQ_I_df_HSQ510_T.columns = new_header #set the header row as the df header\n",
    "HSQ_I_df_HSQ510_T\n",
    "\n",
    "HSQ_I_df_HSQ500_T=np.transpose(HSQ_I_df_HSQ500)\n",
    "new_header0 = HSQ_I_df_HSQ500_T.iloc[0] #grab the first row for the header\n",
    "HSQ_I_df_HSQ500_T = HSQ_I_df_HSQ500_T[1:] #take the data less the header row\n",
    "HSQ_I_df_HSQ500_T.columns = new_header #set the header row as the df header\n",
    "HSQ_I_df_HSQ500_T\n",
    "\n",
    "frame1 = [HSQ_I_df_HSQ500_T,HSQ_I_df_HSQ510_T,HSQ_I_df_HSQ510_T,HSQ_I_df_HSQ590_T]\n",
    "HSQ_I_df_LONG=pd.concat(frame1)\n",
    "#HSQ_I_df_LONG_T=HSQ_I_df_LONG.transpose()\n",
    "HSQ_I_df_LONG"
   ]
  },
  {
   "cell_type": "code",
   "execution_count": 461,
   "id": "9ecf1499",
   "metadata": {},
   "outputs": [
    {
     "name": "stderr",
     "output_type": "stream",
     "text": [
      "/Users/yutingguo/opt/anaconda3/lib/python3.8/site-packages/seaborn/_decorators.py:36: FutureWarning: Pass the following variables as keyword args: x, y. From version 0.12, the only valid positional argument will be `data`, and passing other arguments without an explicit keyword will result in an error or misinterpretation.\n",
      "  warnings.warn(\n"
     ]
    },
    {
     "data": {
      "image/png": "[encoded data removed]",
      "text/plain": [
       "<Figure size 800x640 with 1 Axes>"
      ]
     },
     "metadata": {
      "needs_background": "light"
     },
     "output_type": "display_data"
    },
    {
     "data": {
      "image/png": "[encoded data removed]",
      "text/plain": [
       "<Figure size 720x576 with 1 Axes>"
      ]
     },
     "metadata": {
      "needs_background": "light"
     },
     "output_type": "display_data"
    }
   ],
   "source": [
    "# HSD010 General health condition Distribution\n",
    "plt.figure(figsize=(10,8), dpi= 80)\n",
    "axHSQ1=sns.barplot(\"index\",\"HSD010\", data=HSQ_I_df_HSD010)\n",
    "A1=HSQ_I_df_HSD010['index']\n",
    "B1=HSQ_I_df_HSD010['HSD010']\n",
    "for a, b in zip(A1, B1):\n",
    "    plt.text(a-1, b, b, ha='center', va='bottom', fontsize=12)\n",
    "axHSQ1.set_xticklabels(labels=['Excellent', 'Very good','Good','Fair','Poor'],\n",
    "                       rotation=0, fontsize=12)\n",
    "axHSQ1.set_title('HSD010 General health condition Distribution',fontsize=12)\n",
    "plt.savefig('HSD010 General health condition Distribution.png',dpi=600)\n",
    "\n",
    "# Other Current health status DLQ-I-df.pngistribution\n",
    "\n",
    "HSQ_I_df_LONG.columns = ['No','Yes','Dont know']\n",
    "axHSQ2 = HSQ_I_df_LONG.plot.bar(rot=0,figsize=(10,8))\n",
    "axHSQ2.set_title('Other Current health status Distribution',fontsize=12)\n",
    "plt.savefig('Other Current health status Distribution.png',dpi=600)\n",
    "\n",
    "plt.show()\n"
   ]
  },
  {
   "cell_type": "code",
   "execution_count": 462,
   "id": "bf59ca8c",
   "metadata": {},
   "outputs": [
    {
     "data": {
      "text/html": [
       "<div>\n",
       "<style scoped>\n",
       "    .dataframe tbody tr th:only-of-type {\n",
       "        vertical-align: middle;\n",
       "    }\n",
       "\n",
       "    .dataframe tbody tr th {\n",
       "        vertical-align: top;\n",
       "    }\n",
       "\n",
       "    .dataframe thead th {\n",
       "        text-align: right;\n",
       "    }\n",
       "</style>\n",
       "<table border=\"1\" class=\"dataframe\">\n",
       "  <thead>\n",
       "    <tr style=\"text-align: right;\">\n",
       "      <th></th>\n",
       "      <th>2</th>\n",
       "      <th>2301</th>\n",
       "    </tr>\n",
       "  </thead>\n",
       "  <tbody>\n",
       "    <tr>\n",
       "      <th>1</th>\n",
       "      <td>1</td>\n",
       "      <td>1682</td>\n",
       "    </tr>\n",
       "    <tr>\n",
       "      <th>2</th>\n",
       "      <td>9</td>\n",
       "      <td>149</td>\n",
       "    </tr>\n",
       "  </tbody>\n",
       "</table>\n",
       "</div>"
      ],
      "text/plain": [
       "0  2     2301\n",
       "1     1  1682\n",
       "2     9   149"
      ]
     },
     "execution_count": 462,
     "metadata": {},
     "output_type": "execute_result"
    }
   ],
   "source": [
    "HSQ_I_df\n",
    "new_header = HSQ_I_df_HSQ590.iloc[0] #grab the first row for the header\n",
    "HSQ_I_df_HSQ590 = HSQ_I_df_HSQ590[1:] #take the data less the header row\n",
    "HSQ_I_df_HSQ590.columns = new_header #set the header row as the df header\n",
    "HSQ_I_df_HSQ590.head(10)"
   ]
  },
  {
   "cell_type": "code",
   "execution_count": 489,
   "id": "3070c615",
   "metadata": {},
   "outputs": [
    {
     "data": {
      "text/plain": [
       "3"
      ]
     },
     "execution_count": 489,
     "metadata": {},
     "output_type": "execute_result"
    }
   ],
   "source": [
    "\n"
   ]
  },
  {
   "cell_type": "code",
   "execution_count": 490,
   "id": "dd806e76",
   "metadata": {},
   "outputs": [
    {
     "data": {
      "image/png": "[encoded data removed]",
      "text/plain": [
       "<Figure size 720x576 with 1 Axes>"
      ]
     },
     "metadata": {
      "needs_background": "light"
     },
     "output_type": "display_data"
    }
   ],
   "source": [
    "DLQ_I_df\n",
    "axDLQ = DLQ_I_df.plot.bar(rot=0,figsize=(10,8))\n",
    "plt.show()"
   ]
  },
  {
   "cell_type": "code",
   "execution_count": 464,
   "id": "ea0f690e",
   "metadata": {},
   "outputs": [
    {
     "data": {
      "image/png": "[encoded data removed]",
      "text/plain": [
       "<Figure size 800x640 with 1 Axes>"
      ]
     },
     "metadata": {
      "needs_background": "light"
     },
     "output_type": "display_data"
    }
   ],
   "source": [
    "DLQ_I_cols = np.load('DLQ_I_cols.npy')\n",
    "DLQ_I_df = tot_df[DLQ_I_cols]\n",
    "plt.figure(figsize=(10,8), dpi= 80)\n",
    "DLQ_I_df.boxplot()\n",
    "plt.tick_params(labelsize=8)\n",
    "plt.title(\"Disability distribution\")\n",
    "plt.xlabel(\"Disability\")\n",
    "plt.ylabel(\"Level\")\n",
    "plt.yticks(np.arange(0,10,1))\n",
    "plt.savefig('DLQ-I-df.png',dpi=600)"
   ]
  },
  {
   "cell_type": "code",
   "execution_count": 465,
   "id": "845d34a5",
   "metadata": {},
   "outputs": [
    {
     "data": {
      "text/plain": [
       "DLQ010  DLQ020  DLQ040  DLQ050  DLQ060  DLQ080  DLQ150\n",
       "2       2       2       2       2       2       2         3034\n",
       "                                                1          158\n",
       "                        1       2       2       2          137\n",
       "                1       2       2       2       2           97\n",
       "1       2       2       2       2       2       2           83\n",
       "                                                          ... \n",
       "2       2       1       2       2       1       0            1\n",
       "1       2       1       1       2       1       2            1\n",
       "2       2       1       2       2       2       0            1\n",
       "1       2       1       1       1       2       2            1\n",
       "9       1       2       2       2       2       2            1\n",
       "Length: 104, dtype: int64"
      ]
     },
     "execution_count": 465,
     "metadata": {},
     "output_type": "execute_result"
    }
   ],
   "source": [
    "DLQ_I_df.value_counts()"
   ]
  },
  {
   "cell_type": "code",
   "execution_count": 247,
   "id": "77b7abea",
   "metadata": {},
   "outputs": [
    {
     "data": {
      "image/png": "[encoded data removed]",
      "text/plain": [
       "<Figure size 800x640 with 1 Axes>"
      ]
     },
     "metadata": {
      "needs_background": "light"
     },
     "output_type": "display_data"
    }
   ],
   "source": [
    "\n",
    "DUQ_I_new_df = pd.read_csv('DUQ_I_new_df.csv')\n",
    "DUQ_I_new_cols = DUQ_I_new_df.columns.tolist()\n",
    "DUQ_I_new_cols.remove('SEQN')\n",
    "DUQ_I_new_df = DUQ_I_new_df[DUQ_I_new_cols]\n",
    "plt.figure(figsize=(10,8), dpi= 80)\n",
    "DUQ_I_new_df.boxplot()\n",
    "#plt.tick_params(labelsize=10)\n",
    "plt.title(\"Drug use distribution\")\n",
    "plt.xlabel(\"Drugs\")\n",
    "plt.ylabel(\"Level\")\n",
    "plt.yticks(np.arange(0,5,1))\n",
    "plt.savefig('DUQ-I-new-df.png',dpi=600)"
   ]
  },
  {
   "cell_type": "code",
   "execution_count": 466,
   "id": "23a8c48f",
   "metadata": {},
   "outputs": [
    {
     "data": {
      "text/html": [
       "<div>\n",
       "<style scoped>\n",
       "    .dataframe tbody tr th:only-of-type {\n",
       "        vertical-align: middle;\n",
       "    }\n",
       "\n",
       "    .dataframe tbody tr th {\n",
       "        vertical-align: top;\n",
       "    }\n",
       "\n",
       "    .dataframe thead th {\n",
       "        text-align: right;\n",
       "    }\n",
       "</style>\n",
       "<table border=\"1\" class=\"dataframe\">\n",
       "  <thead>\n",
       "    <tr style=\"text-align: right;\">\n",
       "      <th></th>\n",
       "      <th>SEQN</th>\n",
       "      <th>no drug</th>\n",
       "      <th>marijuana</th>\n",
       "      <th>cocaine</th>\n",
       "      <th>heroin</th>\n",
       "      <th>methamphetamine</th>\n",
       "      <th>needle</th>\n",
       "    </tr>\n",
       "  </thead>\n",
       "  <tbody>\n",
       "    <tr>\n",
       "      <th>0</th>\n",
       "      <td>83750</td>\n",
       "      <td>0</td>\n",
       "      <td>0</td>\n",
       "      <td>1</td>\n",
       "      <td>0</td>\n",
       "      <td>1</td>\n",
       "      <td>0</td>\n",
       "    </tr>\n",
       "    <tr>\n",
       "      <th>1</th>\n",
       "      <td>83733</td>\n",
       "      <td>1</td>\n",
       "      <td>0</td>\n",
       "      <td>0</td>\n",
       "      <td>0</td>\n",
       "      <td>0</td>\n",
       "      <td>0</td>\n",
       "    </tr>\n",
       "    <tr>\n",
       "      <th>2</th>\n",
       "      <td>83735</td>\n",
       "      <td>1</td>\n",
       "      <td>0</td>\n",
       "      <td>0</td>\n",
       "      <td>0</td>\n",
       "      <td>0</td>\n",
       "      <td>0</td>\n",
       "    </tr>\n",
       "    <tr>\n",
       "      <th>3</th>\n",
       "      <td>83750</td>\n",
       "      <td>0</td>\n",
       "      <td>4</td>\n",
       "      <td>0</td>\n",
       "      <td>0</td>\n",
       "      <td>0</td>\n",
       "      <td>0</td>\n",
       "    </tr>\n",
       "    <tr>\n",
       "      <th>4</th>\n",
       "      <td>83750</td>\n",
       "      <td>0</td>\n",
       "      <td>4</td>\n",
       "      <td>0</td>\n",
       "      <td>0</td>\n",
       "      <td>0</td>\n",
       "      <td>0</td>\n",
       "    </tr>\n",
       "    <tr>\n",
       "      <th>...</th>\n",
       "      <td>...</td>\n",
       "      <td>...</td>\n",
       "      <td>...</td>\n",
       "      <td>...</td>\n",
       "      <td>...</td>\n",
       "      <td>...</td>\n",
       "      <td>...</td>\n",
       "    </tr>\n",
       "    <tr>\n",
       "      <th>4127</th>\n",
       "      <td>93689</td>\n",
       "      <td>1</td>\n",
       "      <td>0</td>\n",
       "      <td>0</td>\n",
       "      <td>0</td>\n",
       "      <td>0</td>\n",
       "      <td>0</td>\n",
       "    </tr>\n",
       "    <tr>\n",
       "      <th>4128</th>\n",
       "      <td>83750</td>\n",
       "      <td>0</td>\n",
       "      <td>1</td>\n",
       "      <td>1</td>\n",
       "      <td>0</td>\n",
       "      <td>1</td>\n",
       "      <td>0</td>\n",
       "    </tr>\n",
       "    <tr>\n",
       "      <th>4129</th>\n",
       "      <td>93691</td>\n",
       "      <td>1</td>\n",
       "      <td>0</td>\n",
       "      <td>0</td>\n",
       "      <td>0</td>\n",
       "      <td>0</td>\n",
       "      <td>0</td>\n",
       "    </tr>\n",
       "    <tr>\n",
       "      <th>4130</th>\n",
       "      <td>93696</td>\n",
       "      <td>1</td>\n",
       "      <td>0</td>\n",
       "      <td>0</td>\n",
       "      <td>0</td>\n",
       "      <td>0</td>\n",
       "      <td>0</td>\n",
       "    </tr>\n",
       "    <tr>\n",
       "      <th>4131</th>\n",
       "      <td>83750</td>\n",
       "      <td>0</td>\n",
       "      <td>1</td>\n",
       "      <td>0</td>\n",
       "      <td>0</td>\n",
       "      <td>0</td>\n",
       "      <td>0</td>\n",
       "    </tr>\n",
       "  </tbody>\n",
       "</table>\n",
       "<p>4132 rows × 7 columns</p>\n",
       "</div>"
      ],
      "text/plain": [
       "       SEQN  no drug  marijuana  cocaine  heroin  methamphetamine  needle\n",
       "0     83750        0          0        1       0                1       0\n",
       "1     83733        1          0        0       0                0       0\n",
       "2     83735        1          0        0       0                0       0\n",
       "3     83750        0          4        0       0                0       0\n",
       "4     83750        0          4        0       0                0       0\n",
       "...     ...      ...        ...      ...     ...              ...     ...\n",
       "4127  93689        1          0        0       0                0       0\n",
       "4128  83750        0          1        1       0                1       0\n",
       "4129  93691        1          0        0       0                0       0\n",
       "4130  93696        1          0        0       0                0       0\n",
       "4131  83750        0          1        0       0                0       0\n",
       "\n",
       "[4132 rows x 7 columns]"
      ]
     },
     "execution_count": 466,
     "metadata": {},
     "output_type": "execute_result"
    }
   ],
   "source": [
    "DUQ_I_new_df"
   ]
  },
  {
   "cell_type": "code",
   "execution_count": null,
   "id": "b6c541f4",
   "metadata": {},
   "outputs": [],
   "source": []
  },
  {
   "cell_type": "code",
   "execution_count": null,
   "id": "d952cfbb",
   "metadata": {},
   "outputs": [],
   "source": []
  }
 ],
 "metadata": {
  "kernelspec": {
   "display_name": "Python 3",
   "language": "python",
   "name": "python3"
  },
  "language_info": {
   "codemirror_mode": {
    "name": "ipython",
    "version": 3
   },
   "file_extension": ".py",
   "mimetype": "text/x-python",
   "name": "python",
   "nbconvert_exporter": "python",
   "pygments_lexer": "ipython3",
   "version": "3.8.8"
  }
 },
 "nbformat": 4,
 "nbformat_minor": 5
}
